{
 "cells": [
  {
   "cell_type": "code",
   "execution_count": 289,
   "id": "dbcc182c",
   "metadata": {
    "cellId": "8oyzx5gce132jmtjxkds1a"
   },
   "outputs": [
    {
     "name": "stdout",
     "output_type": "stream",
     "text": [
      "Defaulting to user installation because normal site-packages is not writeable\n",
      "Requirement already satisfied: numpy==1.21 in /home/jupyter/.local/lib/python3.8/site-packages (1.21.0)\n",
      "\u001b[33mWARNING: You are using pip version 21.3.1; however, version 23.1.2 is available.\n",
      "You should consider upgrading via the '/usr/local/bin/python3 -m pip install --upgrade pip' command.\u001b[0m\n"
     ]
    }
   ],
   "source": [
    "#!g1.1\n",
    "#%pip install opencv-python editdistance ml_collections wandb albumentations\n",
    "#%pip install bezier\n",
    "#%pip install typing_extensions --upgrade\n",
    "#%pip install pandas -U\n",
    "%pip install numpy==1.21"
   ]
  },
  {
   "cell_type": "code",
   "execution_count": 1,
   "id": "ef02ac22",
   "metadata": {
    "cellId": "4hsdt4pafaqchqmpp23kdc"
   },
   "outputs": [],
   "source": [
    "#!g1.1\n",
    "import torch\n",
    "import torch.nn as nn\n",
    "import torch.nn.functional as F\n",
    "import torchvision.transforms.functional as TF\n",
    "\n",
    "import torchvision as tv\n",
    "\n",
    "import numpy as np\n",
    "\n",
    "import typing as tp\n",
    "import os\n",
    "\n",
    "import cv2\n",
    "\n",
    "import matplotlib.pyplot as plt\n",
    "import pandas as pd\n",
    "import math\n",
    "import itertools\n",
    "\n",
    "from editdistance import eval as edit_distance\n",
    "\n",
    "from tqdm import tqdm\n",
    "\n",
    "import errno\n",
    "\n",
    "from ml_collections import ConfigDict\n",
    "\n",
    "import importlib\n",
    "import wandb\n",
    "\n",
    "import albumentations as A\n",
    "\n",
    "import inspect"
   ]
  },
  {
   "cell_type": "code",
   "execution_count": 4,
   "id": "0fe0f35d",
   "metadata": {
    "cellId": "4vhwwnmr9ein4iqii8pwbo"
   },
   "outputs": [],
   "source": [
    "#!g1.1\n",
    "from diploma_code.patched_hwb import HandWrittenBlot\n",
    "\n",
    "# from diploma_code.model import (\n",
    "#     ConvBlock, FusedInvertedBottleneck, ReduceBlock, Backbone, PositionalEncoding,\n",
    "#     TransformerEncoder, CTCRawDecoder, CTCDecoderModel, ParallelModel, make_single_model, make_model\n",
    "# )\n",
    "from diploma_code.model_v2 import (\n",
    "    Resnet34Backbone, BiLSTMEncoder, PositionalEncoding, TransformerEncoder, \n",
    "    CTCDecoderModel, ParallelModel, make_single_model_v2, make_model_v2\n",
    ")\n",
    "from diploma_code.transforms_torch import (\n",
    "    VerticalRandomMasking, HorizontalResizeOnly, GaussianNoise, \n",
    "    RandomHorizontalStretch, RandomChoiceN\n",
    ")\n",
    "from diploma_code.char_encoder import (\n",
    "    CharEncoder\n",
    ")\n",
    "# from diploma_code.data_loader.mjsynth import (\n",
    "#     load_mjsynth_chars, load_mjsynth_samples\n",
    "# )\n",
    "from diploma_code.dataset import (\n",
    "    BaseLTRDataset, LongLinesLTRDataset\n",
    ")\n",
    "from diploma_code.make_loader import (\n",
    "    make_char_encoder, make_datasets, make_dataloaders\n",
    ")\n",
    "from diploma_code.optimizing import (\n",
    "    pytorch_make_optimizer, StepLRWithWarmup, make_lr_scheduler\n",
    ")\n",
    "from diploma_code.utils import (\n",
    "    log_metric_wandb, batch_to_device, seed_everything\n",
    ")\n",
    "from diploma_code.evaluation import (\n",
    "    my_ctc_loss, my_dml_loss, decode_ocr_probs, get_edit_distance, \n",
    "    EpochValueProcessor, EpochDMLProcessor, CERProcessor\n",
    ")\n",
    "from diploma_code.trainer import (\n",
    "    LTRTrainer\n",
    ")\n",
    "\n",
    "from diploma_code.config import default_diploma_config, get_config\n",
    "\n",
    "from diploma_code.configs import BaseDatasetConfig\n",
    "from diploma_code.configs import IamConfig\n",
    "\n"
   ]
  },
  {
   "cell_type": "code",
   "execution_count": 3,
   "id": "f4154eff",
   "metadata": {
    "cellId": "dsyur67hhd4p3ycqwbpvd"
   },
   "outputs": [
    {
     "data": {
      "text/plain": [
       "<module 'diploma_code.configs' from '/home/jupyter/work/resources/mutual_htr/mutual_htr/diploma_code/configs/__init__.py'>"
      ]
     },
     "execution_count": 3,
     "metadata": {},
     "output_type": "execute_result"
    }
   ],
   "source": [
    "#!g1.1\n",
    "import diploma_code\n",
    "import diploma_code.data_loader\n",
    "\n",
    "importlib.reload(diploma_code.char_encoder)\n",
    "\n",
    "importlib.reload(diploma_code.config)\n",
    "importlib.reload(diploma_code.dataset)\n",
    "\n",
    "importlib.reload(diploma_code.data_loader)\n",
    "importlib.reload(diploma_code.evaluation)\n",
    "\n",
    "importlib.reload(diploma_code.optimizing)\n",
    "\n",
    "importlib.reload(diploma_code.model_v2)\n",
    "importlib.reload(diploma_code.utils)\n",
    "importlib.reload(diploma_code.trainer)\n",
    "\n",
    "importlib.reload(diploma_code.make_loader)\n",
    "importlib.reload(diploma_code.make_transforms)\n",
    "\n",
    "importlib.reload(diploma_code.transforms_functional)\n",
    "\n",
    "importlib.reload(diploma_code.configs)\n",
    "\n",
    "\n",
    "\n"
   ]
  },
  {
   "cell_type": "code",
   "execution_count": 5,
   "id": "90c6f4c0",
   "metadata": {
    "cellId": "9l4jwd26tal3yxxoouvwtn"
   },
   "outputs": [
    {
     "name": "stderr",
     "output_type": "stream",
     "text": [
      "\u001b[34m\u001b[1mwandb\u001b[0m: Currently logged in as: \u001b[33mkafka_zhuk\u001b[0m. Use \u001b[1m`wandb login --relogin`\u001b[0m to force relogin\n"
     ]
    },
    {
     "data": {
      "text/plain": [
       "True"
      ]
     },
     "execution_count": 5,
     "metadata": {},
     "output_type": "execute_result"
    }
   ],
   "source": [
    "#!g1.1\n",
    "wandb.login()"
   ]
  },
  {
   "cell_type": "code",
   "execution_count": 5,
   "id": "58dfc63f",
   "metadata": {
    "cellId": "lkqpvvzr28zlsz3tfaea"
   },
   "outputs": [],
   "source": [
    "#!g1.1\n",
    "cfg = get_config()\n",
    "cfg.training.eval_epochs_interval = 1\n",
    "cfg.training.eval_test_interval = 3\n",
    "cfg.training.snapshot_epochs_interval = 3\n",
    "cfg.data.root_path = '/home/jupyter/mnt/datasets/diploma/'\n",
    "cfg.data.iam.path = '/home/jupyter/mnt/datasets/diploma/'\n",
    "\n",
    "cfg.model.type = 'single'\n",
    "\n",
    "cfg.device = 'cuda:0'\n",
    "\n",
    "cfg.training.grad_clip_value = 1\n",
    "cfg.training.epochs = 100\n",
    "cfg.lr_scheduler.params.epochs = 100\n",
    "\n",
    "cfg.training.checkpoint_path = './checkpoints_lstm_single_42'\n",
    "\n",
    "cfg.optimizer.weight_decay = 1e-2\n",
    "\n",
    "# cfg.training.load_from_checkpoint = True\n",
    "# cfg.wandb.resume = True"
   ]
  },
  {
   "cell_type": "code",
   "execution_count": 6,
   "id": "ff37ea58",
   "metadata": {
    "cellId": "9tbeis7l9hm8bm1d5xfy7e"
   },
   "outputs": [],
   "source": [
    "#!g1.1\n",
    "os.makedirs(cfg.training.checkpoint_path, exist_ok=True)"
   ]
  },
  {
   "cell_type": "code",
   "execution_count": 7,
   "id": "e84dba58",
   "metadata": {
    "cellId": "oy8j3suimqsspbmjfwtqof"
   },
   "outputs": [],
   "source": [
    "#!g1.1\n",
    "seed_everything(42)"
   ]
  },
  {
   "cell_type": "code",
   "execution_count": 8,
   "id": "ac2c8f0e",
   "metadata": {
    "cellId": "lhdrvuzy4vxsl8yl3rlk"
   },
   "outputs": [
    {
     "name": "stderr",
     "output_type": "stream",
     "text": [
      "Downloading: \"https://download.pytorch.org/models/resnet34-b627a593.pth\" to /tmp/xdg_cache/torch/hub/checkpoints/resnet34-b627a593.pth\n"
     ]
    },
    {
     "data": {
      "application/vnd.jupyter.widget-view+json": {
       "model_id": "eaeafe9db6874bdf8b6326458839ee99",
       "version_major": 2,
       "version_minor": 0
      },
      "text/plain": [
       "HBox(children=(HTML(value=''), FloatProgress(value=0.0, max=87319819.0), HTML(value='')))"
      ]
     },
     "metadata": {},
     "output_type": "display_data"
    },
    {
     "name": "stdout",
     "output_type": "stream",
     "text": [
      "\n"
     ]
    }
   ],
   "source": [
    "#!g1.1\n",
    "ltr = LTRTrainer(cfg)"
   ]
  },
  {
   "cell_type": "code",
   "execution_count": 9,
   "id": "74305db8",
   "metadata": {
    "cellId": "68dfqz3s4joyaotb3e71hd"
   },
   "outputs": [],
   "source": [
    "#!g1.1\n",
    "#ltr.validate(mode='valid')"
   ]
  },
  {
   "cell_type": "code",
   "execution_count": 10,
   "id": "083a7cfe",
   "metadata": {
    "cellId": "ceok2m4z5na7aohlhtr4uw",
    "execution_id": "acfe52a8-a13e-4b33-8329-e8fd248bffac"
   },
   "outputs": [
    {
     "name": "stderr",
     "output_type": "stream",
     "text": [
      "100%|██████████| 1207/1207 [06:45<00:00,  2.97it/s]\n",
      "100%|██████████| 115/115 [00:36<00:00,  3.18it/s]\n",
      "100%|██████████| 117/117 [00:36<00:00,  3.22it/s]\n",
      "100%|██████████| 1207/1207 [06:45<00:00,  2.98it/s]\n",
      "100%|██████████| 115/115 [00:35<00:00,  3.20it/s]\n",
      "100%|██████████| 1207/1207 [06:44<00:00,  2.98it/s]\n",
      "100%|██████████| 115/115 [00:36<00:00,  3.19it/s]\n",
      "100%|██████████| 1207/1207 [06:44<00:00,  2.98it/s]\n",
      "100%|██████████| 115/115 [00:36<00:00,  3.15it/s]\n",
      "100%|██████████| 117/117 [00:36<00:00,  3.19it/s]\n",
      "100%|██████████| 1207/1207 [06:45<00:00,  2.98it/s]\n",
      "100%|██████████| 115/115 [00:36<00:00,  3.16it/s]\n",
      "100%|██████████| 1207/1207 [06:45<00:00,  2.98it/s]\n",
      "100%|██████████| 115/115 [00:36<00:00,  3.14it/s]\n",
      "100%|██████████| 1207/1207 [06:45<00:00,  2.98it/s]\n",
      "100%|██████████| 115/115 [00:36<00:00,  3.19it/s]\n",
      "100%|██████████| 117/117 [00:36<00:00,  3.23it/s]\n",
      "100%|██████████| 1207/1207 [06:45<00:00,  2.97it/s]\n",
      "100%|██████████| 115/115 [00:36<00:00,  3.16it/s]\n"
     ]
    }
   ],
   "source": [
    "#!g1.1\n",
    "ltr.train('happy_lstm_single_datasphere_42')"
   ]
  },
  {
   "cell_type": "code",
   "execution_count": 340,
   "id": "51570cc9",
   "metadata": {
    "cellId": "fq69rpsttad3klz79t0d5"
   },
   "outputs": [
    {
     "name": "stdout",
     "output_type": "stream",
     "text": [
      "On branch develop_datasphere\n",
      "Your branch and 'origin/develop_datasphere' have diverged,\n",
      "and have 1 and 1 different commits each, respectively.\n",
      "  (use \"git pull\" to merge the remote branch into yours)\n",
      "\n",
      "You have unmerged paths.\n",
      "  (fix conflicts and run \"git commit\")\n",
      "  (use \"git merge --abort\" to abort the merge)\n",
      "\n",
      "Changes to be committed:\n",
      "\n",
      "\tmodified:   diploma_code/config.py\n",
      "\n",
      "Unmerged paths:\n",
      "  (use \"git add <file>...\" to mark resolution)\n",
      "\n",
      "\tboth modified:   diploma_ctc_torch.ipynb\n",
      "\n",
      "Untracked files:\n",
      "  (use \"git add <file>...\" to include in what will be committed)\n",
      "\n",
      "\tcheckpoints_single_lstm_42/train_state.pth\n",
      "\twandb/\n",
      "\n"
     ]
    }
   ],
   "source": [
    "#!g1.1\n",
    "!git add diploma_code"
   ]
  }
 ],
 "metadata": {
  "language_info": {
   "codemirror_mode": {
    "name": "ipython",
    "version": 3
   },
   "file_extension": ".py",
   "mimetype": "text/x-python",
   "name": "python",
   "nbconvert_exporter": "python",
   "pygments_lexer": "ipython3",
   "version": "3.7.7"
  },
  "notebookId": "3ad6c332-3486-42e7-aa4d-906f3d8b640c",
  "notebookPath": "mutual_htr/mutual_htr/diploma_ctc_torch.ipynb"
 },
 "nbformat": 4,
 "nbformat_minor": 5
}
