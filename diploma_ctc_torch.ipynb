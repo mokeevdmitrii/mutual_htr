{
 "cells": [
  {
   "cell_type": "code",
   "execution_count": 25,
   "id": "cf445be4",
   "metadata": {},
   "outputs": [],
   "source": [
    "import torch\n",
    "import torch.nn as nn\n",
    "import torch.nn.functional as F\n",
    "import torchvision.transforms.functional as TF\n",
    "\n",
    "import torchvision as tv\n",
    "\n",
    "import numpy as np\n",
    "\n",
    "import typing as tp\n",
    "import os\n",
    "\n",
    "import cv2\n",
    "\n",
    "import matplotlib.pyplot as plt\n",
    "import math\n",
    "import itertools\n",
    "\n",
    "from editdistance import eval as edit_distance\n",
    "\n",
    "from tqdm import tqdm\n",
    "\n",
    "import errno\n",
    "\n",
    "from ml_collections import ConfigDict\n",
    "\n",
    "import importlib\n",
    "import wandb"
   ]
  },
  {
   "cell_type": "code",
   "execution_count": 4,
   "id": "ab6f8bd1",
   "metadata": {},
   "outputs": [],
   "source": [
    "import diploma_code\n",
    "\n",
    "from diploma_code.model import (\n",
    "    ConvBlock, FusedInvertedBottleneck, ReduceBlock, Backbone, PositionalEncoding,\n",
    "    TransformerEncoder, CTCRawDecoder, CTCDecoderModel, ParallelModel, make_single_model, make_model\n",
    ")\n",
    "from diploma_code.data_loader.transforms import (\n",
    "    HorizontalChunker, VerticalRandomMasking, HorizontalResizeOnly, ChunkTransform, GaussianNoise, \n",
    "    RandomHorizontalStretch, RandomChoiceN\n",
    ")\n",
    "from diploma_code.data_loader.data_common import (\n",
    "    Sample, CharEncoder\n",
    ")\n",
    "from diploma_code.data_loader.iam import (\n",
    "    load_iam_data_dict, make_iam_split\n",
    ")\n",
    "from diploma_code.data_loader.mjsynth import (\n",
    "    load_mjsynth_chars, load_mjsynth_samples\n",
    ")\n",
    "from diploma_code.data_loader.datasets import (\n",
    "    BaseLTRDataset, LongLinesLTRDataset, MyConcatDataset, MergingSampler, TransformLTRWrapperDataset\n",
    ")\n",
    "from diploma_code.data_loader.loader import (\n",
    "    stacking_collate_fn\n",
    ")\n",
    "from diploma_code.make_loader import (\n",
    "    make_dataloader, make_char_encoder\n",
    ")\n",
    "from diploma_code.optimizing import (\n",
    "    pytorch_make_optimizer, StepLRWithWarmup, make_lr_scheduler\n",
    ")\n",
    "from diploma_code.utils import (\n",
    "    log_metric_wandb, batch_to_device\n",
    ")\n",
    "from diploma_code.evaluation import (\n",
    "    my_ctc_loss, my_dml_loss, decode_ocr_probs, decode_targets, get_edit_distance, \n",
    "    EpochValueProcessor, EpochDMLProcessor, CERProcessor\n",
    ")\n",
    "from diploma_code.trainer import (\n",
    "    LTRTrainer\n",
    ")\n",
    "\n",
    "from diploma_code.config import default_diploma_config, get_config"
   ]
  },
  {
   "cell_type": "code",
   "execution_count": 33,
   "id": "bb487f36",
   "metadata": {},
   "outputs": [
    {
     "data": {
      "text/plain": [
       "Sequential(\n",
       "  (0): Conv2d(3, 64, kernel_size=(7, 7), stride=(1, 1), padding=(3, 3))\n",
       "  (1): BatchNorm2d(64, eps=1e-05, momentum=0.1, affine=True, track_running_stats=True)\n",
       "  (2): ReLU(inplace=True)\n",
       "  (3): MaxPool2d(kernel_size=3, stride=2, padding=1, dilation=1, ceil_mode=False)\n",
       "  (4): Sequential(\n",
       "    (0): BasicBlock(\n",
       "      (conv1): Conv2d(64, 64, kernel_size=(3, 3), stride=(1, 1), padding=(1, 1), bias=False)\n",
       "      (bn1): BatchNorm2d(64, eps=1e-05, momentum=0.1, affine=True, track_running_stats=True)\n",
       "      (relu): ReLU(inplace=True)\n",
       "      (conv2): Conv2d(64, 64, kernel_size=(3, 3), stride=(1, 1), padding=(1, 1), bias=False)\n",
       "      (bn2): BatchNorm2d(64, eps=1e-05, momentum=0.1, affine=True, track_running_stats=True)\n",
       "    )\n",
       "    (1): BasicBlock(\n",
       "      (conv1): Conv2d(64, 64, kernel_size=(3, 3), stride=(1, 1), padding=(1, 1), bias=False)\n",
       "      (bn1): BatchNorm2d(64, eps=1e-05, momentum=0.1, affine=True, track_running_stats=True)\n",
       "      (relu): ReLU(inplace=True)\n",
       "      (conv2): Conv2d(64, 64, kernel_size=(3, 3), stride=(1, 1), padding=(1, 1), bias=False)\n",
       "      (bn2): BatchNorm2d(64, eps=1e-05, momentum=0.1, affine=True, track_running_stats=True)\n",
       "    )\n",
       "    (2): BasicBlock(\n",
       "      (conv1): Conv2d(64, 64, kernel_size=(3, 3), stride=(1, 1), padding=(1, 1), bias=False)\n",
       "      (bn1): BatchNorm2d(64, eps=1e-05, momentum=0.1, affine=True, track_running_stats=True)\n",
       "      (relu): ReLU(inplace=True)\n",
       "      (conv2): Conv2d(64, 64, kernel_size=(3, 3), stride=(1, 1), padding=(1, 1), bias=False)\n",
       "      (bn2): BatchNorm2d(64, eps=1e-05, momentum=0.1, affine=True, track_running_stats=True)\n",
       "    )\n",
       "  )\n",
       "  (5): Sequential(\n",
       "    (0): BasicBlock(\n",
       "      (conv1): Conv2d(64, 128, kernel_size=(3, 3), stride=(2, 2), padding=(1, 1), bias=False)\n",
       "      (bn1): BatchNorm2d(128, eps=1e-05, momentum=0.1, affine=True, track_running_stats=True)\n",
       "      (relu): ReLU(inplace=True)\n",
       "      (conv2): Conv2d(128, 128, kernel_size=(3, 3), stride=(1, 1), padding=(1, 1), bias=False)\n",
       "      (bn2): BatchNorm2d(128, eps=1e-05, momentum=0.1, affine=True, track_running_stats=True)\n",
       "      (downsample): Sequential(\n",
       "        (0): Conv2d(64, 128, kernel_size=(1, 1), stride=(2, 2), bias=False)\n",
       "        (1): BatchNorm2d(128, eps=1e-05, momentum=0.1, affine=True, track_running_stats=True)\n",
       "      )\n",
       "    )\n",
       "    (1): BasicBlock(\n",
       "      (conv1): Conv2d(128, 128, kernel_size=(3, 3), stride=(1, 1), padding=(1, 1), bias=False)\n",
       "      (bn1): BatchNorm2d(128, eps=1e-05, momentum=0.1, affine=True, track_running_stats=True)\n",
       "      (relu): ReLU(inplace=True)\n",
       "      (conv2): Conv2d(128, 128, kernel_size=(3, 3), stride=(1, 1), padding=(1, 1), bias=False)\n",
       "      (bn2): BatchNorm2d(128, eps=1e-05, momentum=0.1, affine=True, track_running_stats=True)\n",
       "    )\n",
       "    (2): BasicBlock(\n",
       "      (conv1): Conv2d(128, 128, kernel_size=(3, 3), stride=(1, 1), padding=(1, 1), bias=False)\n",
       "      (bn1): BatchNorm2d(128, eps=1e-05, momentum=0.1, affine=True, track_running_stats=True)\n",
       "      (relu): ReLU(inplace=True)\n",
       "      (conv2): Conv2d(128, 128, kernel_size=(3, 3), stride=(1, 1), padding=(1, 1), bias=False)\n",
       "      (bn2): BatchNorm2d(128, eps=1e-05, momentum=0.1, affine=True, track_running_stats=True)\n",
       "    )\n",
       "    (3): BasicBlock(\n",
       "      (conv1): Conv2d(128, 128, kernel_size=(3, 3), stride=(1, 1), padding=(1, 1), bias=False)\n",
       "      (bn1): BatchNorm2d(128, eps=1e-05, momentum=0.1, affine=True, track_running_stats=True)\n",
       "      (relu): ReLU(inplace=True)\n",
       "      (conv2): Conv2d(128, 128, kernel_size=(3, 3), stride=(1, 1), padding=(1, 1), bias=False)\n",
       "      (bn2): BatchNorm2d(128, eps=1e-05, momentum=0.1, affine=True, track_running_stats=True)\n",
       "    )\n",
       "  )\n",
       "  (6): Sequential(\n",
       "    (0): BasicBlock(\n",
       "      (conv1): Conv2d(128, 256, kernel_size=(3, 3), stride=(2, 2), padding=(1, 1), bias=False)\n",
       "      (bn1): BatchNorm2d(256, eps=1e-05, momentum=0.1, affine=True, track_running_stats=True)\n",
       "      (relu): ReLU(inplace=True)\n",
       "      (conv2): Conv2d(256, 256, kernel_size=(3, 3), stride=(1, 1), padding=(1, 1), bias=False)\n",
       "      (bn2): BatchNorm2d(256, eps=1e-05, momentum=0.1, affine=True, track_running_stats=True)\n",
       "      (downsample): Sequential(\n",
       "        (0): Conv2d(128, 256, kernel_size=(1, 1), stride=(2, 2), bias=False)\n",
       "        (1): BatchNorm2d(256, eps=1e-05, momentum=0.1, affine=True, track_running_stats=True)\n",
       "      )\n",
       "    )\n",
       "    (1): BasicBlock(\n",
       "      (conv1): Conv2d(256, 256, kernel_size=(3, 3), stride=(1, 1), padding=(1, 1), bias=False)\n",
       "      (bn1): BatchNorm2d(256, eps=1e-05, momentum=0.1, affine=True, track_running_stats=True)\n",
       "      (relu): ReLU(inplace=True)\n",
       "      (conv2): Conv2d(256, 256, kernel_size=(3, 3), stride=(1, 1), padding=(1, 1), bias=False)\n",
       "      (bn2): BatchNorm2d(256, eps=1e-05, momentum=0.1, affine=True, track_running_stats=True)\n",
       "    )\n",
       "    (2): BasicBlock(\n",
       "      (conv1): Conv2d(256, 256, kernel_size=(3, 3), stride=(1, 1), padding=(1, 1), bias=False)\n",
       "      (bn1): BatchNorm2d(256, eps=1e-05, momentum=0.1, affine=True, track_running_stats=True)\n",
       "      (relu): ReLU(inplace=True)\n",
       "      (conv2): Conv2d(256, 256, kernel_size=(3, 3), stride=(1, 1), padding=(1, 1), bias=False)\n",
       "      (bn2): BatchNorm2d(256, eps=1e-05, momentum=0.1, affine=True, track_running_stats=True)\n",
       "    )\n",
       "    (3): BasicBlock(\n",
       "      (conv1): Conv2d(256, 256, kernel_size=(3, 3), stride=(1, 1), padding=(1, 1), bias=False)\n",
       "      (bn1): BatchNorm2d(256, eps=1e-05, momentum=0.1, affine=True, track_running_stats=True)\n",
       "      (relu): ReLU(inplace=True)\n",
       "      (conv2): Conv2d(256, 256, kernel_size=(3, 3), stride=(1, 1), padding=(1, 1), bias=False)\n",
       "      (bn2): BatchNorm2d(256, eps=1e-05, momentum=0.1, affine=True, track_running_stats=True)\n",
       "    )\n",
       "    (4): BasicBlock(\n",
       "      (conv1): Conv2d(256, 256, kernel_size=(3, 3), stride=(1, 1), padding=(1, 1), bias=False)\n",
       "      (bn1): BatchNorm2d(256, eps=1e-05, momentum=0.1, affine=True, track_running_stats=True)\n",
       "      (relu): ReLU(inplace=True)\n",
       "      (conv2): Conv2d(256, 256, kernel_size=(3, 3), stride=(1, 1), padding=(1, 1), bias=False)\n",
       "      (bn2): BatchNorm2d(256, eps=1e-05, momentum=0.1, affine=True, track_running_stats=True)\n",
       "    )\n",
       "    (5): BasicBlock(\n",
       "      (conv1): Conv2d(256, 256, kernel_size=(3, 3), stride=(1, 1), padding=(1, 1), bias=False)\n",
       "      (bn1): BatchNorm2d(256, eps=1e-05, momentum=0.1, affine=True, track_running_stats=True)\n",
       "      (relu): ReLU(inplace=True)\n",
       "      (conv2): Conv2d(256, 256, kernel_size=(3, 3), stride=(1, 1), padding=(1, 1), bias=False)\n",
       "      (bn2): BatchNorm2d(256, eps=1e-05, momentum=0.1, affine=True, track_running_stats=True)\n",
       "    )\n",
       "  )\n",
       ")"
      ]
     },
     "execution_count": 33,
     "metadata": {},
     "output_type": "execute_result"
    }
   ],
   "source": [
    "m = tv.models.resnet34(weights=tv.models.ResNet34_Weights.DEFAULT)\n",
    "input_conv = nn.Conv2d(3, 64, 7, 1, 3)\n",
    "blocks = [input_conv, m.bn1, m.relu,\n",
    "          m.maxpool, m.layer1, m.layer2, m.layer3]\n",
    "model = nn.Sequential(*blocks)\n",
    "model"
   ]
  },
  {
   "cell_type": "code",
   "execution_count": 35,
   "id": "c4df2224",
   "metadata": {},
   "outputs": [
    {
     "data": {
      "text/plain": [
       "torch.Size([4, 256, 8, 128])"
      ]
     },
     "execution_count": 35,
     "metadata": {},
     "output_type": "execute_result"
    }
   ],
   "source": [
    "model.forward(torch.zeros(4,3,64,1024)).shape"
   ]
  },
  {
   "cell_type": "code",
   "execution_count": 5,
   "id": "0718f459",
   "metadata": {},
   "outputs": [
    {
     "data": {
      "text/plain": [
       "<module 'diploma_code.trainer' from '/home/lehahel/dmdiploma/diploma_code/trainer.py'>"
      ]
     },
     "execution_count": 5,
     "metadata": {},
     "output_type": "execute_result"
    }
   ],
   "source": [
    "importlib.reload(diploma_code.data_loader)\n",
    "importlib.reload(diploma_code.data_loader.datasets)\n",
    "importlib.reload(diploma_code.data_loader.data_common)\n",
    "importlib.reload(diploma_code.data_loader.transforms)\n",
    "importlib.reload(diploma_code.data_loader.iam)\n",
    "importlib.reload(diploma_code.data_loader.mjsynth)\n",
    "importlib.reload(diploma_code.data_loader.loader)\n",
    "importlib.reload(diploma_code.optimizing)\n",
    "importlib.reload(diploma_code.make_loader)\n",
    "importlib.reload(diploma_code.make_transforms)\n",
    "importlib.reload(diploma_code.config)\n",
    "importlib.reload(diploma_code.model)\n",
    "importlib.reload(diploma_code.utils)\n",
    "importlib.reload(diploma_code.evaluation)\n",
    "importlib.reload(diploma_code.trainer)\n",
    "\n"
   ]
  },
  {
   "cell_type": "code",
   "execution_count": 6,
   "id": "7a1d43e5",
   "metadata": {},
   "outputs": [
    {
     "name": "stderr",
     "output_type": "stream",
     "text": [
      "\u001b[34m\u001b[1mwandb\u001b[0m: Currently logged in as: \u001b[33mkafka_zhuk\u001b[0m. Use \u001b[1m`wandb login --relogin`\u001b[0m to force relogin\n"
     ]
    },
    {
     "data": {
      "text/plain": [
       "True"
      ]
     },
     "execution_count": 6,
     "metadata": {},
     "output_type": "execute_result"
    }
   ],
   "source": [
    "wandb.login()"
   ]
  },
  {
   "cell_type": "code",
   "execution_count": 201,
   "id": "a9894117",
   "metadata": {},
   "outputs": [
    {
     "name": "stdout",
     "output_type": "stream",
     "text": [
      "/bin/bash: /home/lehahel/dmdiploma/miniconda3/lib/libtinfo.so.6: no version information available (required by /bin/bash)\n",
      "\u001b[34m\u001b[1mwandb\u001b[0m: Currently logged in as: \u001b[33mkafka_zhuk\u001b[0m. Use \u001b[1m`wandb login --relogin`\u001b[0m to force relogin\n",
      "\u001b[34m\u001b[1mwandb\u001b[0m: Tracking run with wandb version 0.15.2\n",
      "\u001b[34m\u001b[1mwandb\u001b[0m: Run data is saved locally in \u001b[35m\u001b[1m/home/lehahel/dmdiploma/wandb/run-20230510_025237-9e12ca54\u001b[0m\n",
      "\u001b[34m\u001b[1mwandb\u001b[0m: Run \u001b[1m`wandb offline`\u001b[0m to turn off syncing.\n",
      "\u001b[34m\u001b[1mwandb\u001b[0m: Syncing run \u001b[33msad_dogo\u001b[0m\n",
      "\u001b[34m\u001b[1mwandb\u001b[0m: ⭐️ View project at \u001b[34m\u001b[4mhttps://wandb.ai/kafka_zhuk/diploma_dml\u001b[0m\n",
      "\u001b[34m\u001b[1mwandb\u001b[0m: 🚀 View run at \u001b[34m\u001b[4mhttps://wandb.ai/kafka_zhuk/diploma_dml/runs/9e12ca54\u001b[0m\n",
      "Traceback (most recent call last):\n",
      "  File \"/home/lehahel/dmdiploma/./train.py\", line 23, in <module>\n",
      "    app.run(main)\n",
      "  File \"/home/lehahel/dmdiploma/miniconda3/lib/python3.10/site-packages/absl/app.py\", line 308, in run\n",
      "    _run_main(main, args)\n",
      "  File \"/home/lehahel/dmdiploma/miniconda3/lib/python3.10/site-packages/absl/app.py\", line 254, in _run_main\n",
      "    sys.exit(main(argv))\n",
      "  File \"/home/lehahel/dmdiploma/./train.py\", line 20, in main\n",
      "    trainer.train(_CONFIG.value.wandb.run_name)\n",
      "  File \"/home/lehahel/dmdiploma/diploma_code/trainer.py\", line 154, in train\n",
      "    criterion_processor = self.make_criterion_processor(mode='train', report_per_batch=True, report_final=True)\n",
      "  File \"/home/lehahel/dmdiploma/diploma_code/trainer.py\", line 130, in make_criterion_processor\n",
      "    return EpochLossProcessor('loss', mode, report_per_batch=report_per_batch, report_final=report_final)\n",
      "NameError: name 'EpochLossProcessor' is not defined. Did you mean: 'EpochDMLProcessor'?\n"
     ]
    }
   ],
   "source": [
    "!python3 ./train.py  --config=./diploma_code/config.py --config.wandb.run_name='sad_dogo'"
   ]
  },
  {
   "cell_type": "code",
   "execution_count": 14,
   "id": "06a74e08",
   "metadata": {},
   "outputs": [],
   "source": [
    "diploma_code.config.CHUNK_SIZE = 640\n",
    "cfg = get_config()\n",
    "cfg.training.eval_epochs_interval = 1\n",
    "cfg.training.eval_test_interval = 3\n",
    "cfg.training.snapshot_epochs_interval = 3\n",
    "cfg.data.root_path = './data'\n",
    "cfg.data.iam.path = './data/iam'\n",
    "cfg.data.mjsynth.path = './data/mjsynth/mnt/ramdisk/max/mjsynth'\n",
    "\n",
    "cfg.optimizer.lr = 3e-4\n",
    "cfg.optimizer.weight_decay=1e-5\n",
    "\n",
    "# cfg.training.load_from_checkpoint = True\n",
    "# cfg.wandb.resume = True"
   ]
  },
  {
   "cell_type": "code",
   "execution_count": 15,
   "id": "6d537b13",
   "metadata": {},
   "outputs": [
    {
     "data": {
      "text/plain": [
       "data:\n",
       "  chunk_size: 640\n",
       "  iam:\n",
       "    path: ./data/iam\n",
       "    train_len: !!python/object:ml_collections.config_dict.config_dict.FieldReference\n",
       "      _field_type: &id001 !!python/name:builtins.int ''\n",
       "      _ops: []\n",
       "      _required: false\n",
       "      _value: 6482\n",
       "    transforms:\n",
       "      distortion_scale: 0.1\n",
       "      gauss_kernel_size: !!python/tuple\n",
       "      - 5\n",
       "      - 5\n",
       "      gauss_sigma: !!python/tuple\n",
       "      - 1.0\n",
       "      - 2.5\n",
       "      image_height: &id002 !!python/object:ml_collections.config_dict.config_dict.FieldReference\n",
       "        _field_type: *id001\n",
       "        _ops: []\n",
       "        _required: false\n",
       "        _value: 40\n",
       "      inverse_prob: 0.5\n",
       "      noise_gauss: !!python/tuple\n",
       "      - 0.02\n",
       "      - 0.1\n",
       "      number_of_transforms: 3\n",
       "      stretch_factor: !!python/tuple\n",
       "      - 0.8\n",
       "      - 1.2\n",
       "      vertical_mask_max_height_ratio: 0.5\n",
       "      vertical_mask_min_height_ratio: 0.25\n",
       "      vertical_mask_tile_prob: 0.15\n",
       "    weight: !!python/object:ml_collections.config_dict.config_dict.FieldReference\n",
       "      _field_type: *id001\n",
       "      _ops: []\n",
       "      _required: false\n",
       "      _value: 1\n",
       "  input_height: *id002\n",
       "  mjsynth:\n",
       "    path: ./data/mjsynth/mnt/ramdisk/max/mjsynth\n",
       "    transforms:\n",
       "      image_height: *id002\n",
       "      long_lines:\n",
       "        max_space_to_h: 1.0\n",
       "        min_space_to_h: 0.5\n",
       "        prob: 0.2\n",
       "        space_value: 0.0\n",
       "    weight: !!python/object:ml_collections.config_dict.config_dict.FieldReference\n",
       "      _field_type: *id001\n",
       "      _ops: []\n",
       "      _required: false\n",
       "      _value: 3\n",
       "  root_path: !!python/object:ml_collections.config_dict.config_dict.FieldReference\n",
       "    _field_type: !!python/name:builtins.str ''\n",
       "    _ops: []\n",
       "    _required: false\n",
       "    _value: ./data\n",
       "device: cuda:0\n",
       "eval: false\n",
       "evaluate:\n",
       "  batch_size: 8\n",
       "  load_from_checkpoint: true\n",
       "  loader_num_workers: 6\n",
       "lr_scheduler:\n",
       "  constructor: StepLRWithWarmup\n",
       "  meta_params:\n",
       "    step_epochs: !!python/object:ml_collections.config_dict.config_dict.FieldReference\n",
       "      _field_type: *id001\n",
       "      _ops: []\n",
       "      _required: false\n",
       "      _value: 15\n",
       "    warmup_epochs: !!python/object:ml_collections.config_dict.config_dict.FieldReference\n",
       "      _field_type: *id001\n",
       "      _ops: []\n",
       "      _required: false\n",
       "      _value: 5\n",
       "  params:\n",
       "    decay: 0.7\n",
       "    initial_lr: &id003 !!python/object:ml_collections.config_dict.config_dict.FieldReference\n",
       "      _field_type: !!python/name:builtins.float ''\n",
       "      _ops: []\n",
       "      _required: false\n",
       "      _value: 0.0003\n",
       "    step: !!python/object:ml_collections.config_dict.config_dict.FieldReference\n",
       "      _field_type: *id001\n",
       "      _ops: []\n",
       "      _required: false\n",
       "      _value: 48615\n",
       "    warmup_lr: *id003\n",
       "    warmup_steps: !!python/object:ml_collections.config_dict.config_dict.FieldReference\n",
       "      _field_type: *id001\n",
       "      _ops: []\n",
       "      _required: false\n",
       "      _value: 16205\n",
       "model:\n",
       "  first:\n",
       "    backbone:\n",
       "      out_features: &id004 !!python/object:ml_collections.config_dict.config_dict.FieldReference\n",
       "        _field_type: *id001\n",
       "        _ops: []\n",
       "        _required: false\n",
       "        _value: 256\n",
       "    decoder:\n",
       "      ctc:\n",
       "        chunk_size: 640\n",
       "        image_height: *id002\n",
       "        in_features: *id004\n",
       "        out_features: 81\n",
       "      type: ctc\n",
       "    encoder:\n",
       "      attn:\n",
       "        num_heads: 4\n",
       "        num_layers: 4\n",
       "      features: *id004\n",
       "      type: attn\n",
       "  second:\n",
       "    backbone:\n",
       "      out_features: &id005 !!python/object:ml_collections.config_dict.config_dict.FieldReference\n",
       "        _field_type: *id001\n",
       "        _ops: []\n",
       "        _required: false\n",
       "        _value: 256\n",
       "    decoder:\n",
       "      ctc:\n",
       "        chunk_size: 640\n",
       "        image_height: *id002\n",
       "        in_features: *id005\n",
       "        out_features: 81\n",
       "      type: ctc\n",
       "    encoder:\n",
       "      attn:\n",
       "        num_heads: 4\n",
       "        num_layers: 4\n",
       "      features: *id005\n",
       "      type: attn\n",
       "  type: single\n",
       "optimizer:\n",
       "  constructor: torch.optim.AdamW\n",
       "  lr: 0.0003\n",
       "  params:\n",
       "    betas: !!python/tuple\n",
       "    - 0.9\n",
       "    - 0.999\n",
       "    lr: *id003\n",
       "  weight_decay: 1.0e-05\n",
       "training:\n",
       "  batch_size: !!python/object:ml_collections.config_dict.config_dict.FieldReference\n",
       "    _field_type: *id001\n",
       "    _ops: []\n",
       "    _required: false\n",
       "    _value: 8\n",
       "  checkpoints_folder: ./checkpoints\n",
       "  eval_epochs_interval: 1\n",
       "  eval_test_interval: 3\n",
       "  grad_clip_value: 1\n",
       "  load_from_checkpoint: false\n",
       "  loader_num_workers: 6\n",
       "  num_epochs: 150\n",
       "  snapshot_epochs_interval: 3\n",
       "wandb:\n",
       "  project_name: diploma_dml\n",
       "  resume: false\n",
       "  run_name: __NAME__"
      ]
     },
     "execution_count": 15,
     "metadata": {},
     "output_type": "execute_result"
    }
   ],
   "source": [
    "cfg"
   ]
  },
  {
   "cell_type": "code",
   "execution_count": 16,
   "id": "be4edb1d",
   "metadata": {},
   "outputs": [],
   "source": [
    "ltr = LTRTrainer(cfg)"
   ]
  },
  {
   "cell_type": "code",
   "execution_count": 17,
   "id": "9cc534f1",
   "metadata": {},
   "outputs": [
    {
     "data": {
      "text/plain": [
       "<torch.utils.data.dataloader.DataLoader at 0x7fce69862260>"
      ]
     },
     "execution_count": 17,
     "metadata": {},
     "output_type": "execute_result"
    }
   ],
   "source": [
    "ltr.configure_loader(\"train\")"
   ]
  },
  {
   "cell_type": "code",
   "execution_count": 21,
   "id": "33a242ba",
   "metadata": {},
   "outputs": [
    {
     "data": {
      "image/png": "[encoded data removed]",
      "text/plain": [
       "<Figure size 1200x400 with 2 Axes>"
      ]
     },
     "metadata": {},
     "output_type": "display_data"
    }
   ],
   "source": [
    "\n",
    "\n",
    "def show_chunks(t: torch.Tensor) -> None:\n",
    "    b = t.shape[0]\n",
    "    fig, axes = plt.subplots(figsize=(12, 2 * b), nrows=b, ncols=1)\n",
    "    if isinstance(axes, plt.Axes):\n",
    "        axes = [axes]\n",
    "    \n",
    "    for i, ax in enumerate(axes):\n",
    "        ax.imshow(t[i, :, :, :].squeeze(0))\n",
    "    \n",
    "    \n",
    "show_chunks(ltr.train_loader.dataset[1]['input'])"
   ]
  },
  {
   "cell_type": "code",
   "execution_count": 22,
   "id": "dd79951a",
   "metadata": {},
   "outputs": [
    {
     "data": {
      "text/html": [
       "Tracking run with wandb version 0.15.2"
      ],
      "text/plain": [
       "<IPython.core.display.HTML object>"
      ]
     },
     "metadata": {},
     "output_type": "display_data"
    },
    {
     "data": {
      "text/html": [
       "Run data is saved locally in <code>/home/lehahel/dmdiploma/wandb/run-20230512_223701-6rm0zgo4</code>"
      ],
      "text/plain": [
       "<IPython.core.display.HTML object>"
      ]
     },
     "metadata": {},
     "output_type": "display_data"
    },
    {
     "data": {
      "text/html": [
       "Syncing run <strong><a href='https://wandb.ai/kafka_zhuk/diploma_dml/runs/6rm0zgo4' target=\"_blank\">sad_dogo</a></strong> to <a href='https://wandb.ai/kafka_zhuk/diploma_dml' target=\"_blank\">Weights & Biases</a> (<a href='https://wandb.me/run' target=\"_blank\">docs</a>)<br/>"
      ],
      "text/plain": [
       "<IPython.core.display.HTML object>"
      ]
     },
     "metadata": {},
     "output_type": "display_data"
    },
    {
     "data": {
      "text/html": [
       " View project at <a href='https://wandb.ai/kafka_zhuk/diploma_dml' target=\"_blank\">https://wandb.ai/kafka_zhuk/diploma_dml</a>"
      ],
      "text/plain": [
       "<IPython.core.display.HTML object>"
      ]
     },
     "metadata": {},
     "output_type": "display_data"
    },
    {
     "data": {
      "text/html": [
       " View run at <a href='https://wandb.ai/kafka_zhuk/diploma_dml/runs/6rm0zgo4' target=\"_blank\">https://wandb.ai/kafka_zhuk/diploma_dml/runs/6rm0zgo4</a>"
      ],
      "text/plain": [
       "<IPython.core.display.HTML object>"
      ]
     },
     "metadata": {},
     "output_type": "display_data"
    },
    {
     "name": "stderr",
     "output_type": "stream",
     "text": [
      "100%|███████████████████████████████████████████████████████████████████████████████| 3241/3241 [03:20<00:00, 16.20it/s]\n",
      "100%|█████████████████████████████████████████████████████████████████████████████████| 122/122 [00:15<00:00,  8.01it/s]\n",
      "100%|███████████████████████████████████████████████████████████████████████████████| 3241/3241 [03:18<00:00, 16.36it/s]\n",
      "100%|█████████████████████████████████████████████████████████████████████████████████| 122/122 [00:14<00:00,  8.29it/s]\n",
      "100%|███████████████████████████████████████████████████████████████████████████████| 3241/3241 [03:18<00:00, 16.34it/s]\n",
      "100%|█████████████████████████████████████████████████████████████████████████████████| 122/122 [00:18<00:00,  6.69it/s]\n",
      "100%|█████████████████████████████████████████████████████████████████████████████████| 365/365 [00:50<00:00,  7.26it/s]\n",
      "100%|███████████████████████████████████████████████████████████████████████████████| 3241/3241 [03:18<00:00, 16.37it/s]\n",
      "100%|█████████████████████████████████████████████████████████████████████████████████| 122/122 [00:17<00:00,  7.01it/s]\n",
      "100%|███████████████████████████████████████████████████████████████████████████████| 3241/3241 [03:18<00:00, 16.34it/s]\n",
      "100%|█████████████████████████████████████████████████████████████████████████████████| 122/122 [00:18<00:00,  6.65it/s]\n",
      "100%|███████████████████████████████████████████████████████████████████████████████| 3241/3241 [03:17<00:00, 16.42it/s]\n",
      "100%|█████████████████████████████████████████████████████████████████████████████████| 122/122 [00:18<00:00,  6.59it/s]\n",
      "100%|█████████████████████████████████████████████████████████████████████████████████| 365/365 [00:52<00:00,  6.94it/s]\n",
      "100%|███████████████████████████████████████████████████████████████████████████████| 3241/3241 [03:18<00:00, 16.35it/s]\n",
      "100%|█████████████████████████████████████████████████████████████████████████████████| 122/122 [00:17<00:00,  6.80it/s]\n",
      "100%|███████████████████████████████████████████████████████████████████████████████| 3241/3241 [03:18<00:00, 16.36it/s]\n",
      "100%|█████████████████████████████████████████████████████████████████████████████████| 122/122 [00:18<00:00,  6.45it/s]\n",
      "100%|███████████████████████████████████████████████████████████████████████████████| 3241/3241 [03:20<00:00, 16.19it/s]\n",
      "100%|█████████████████████████████████████████████████████████████████████████████████| 122/122 [00:18<00:00,  6.50it/s]\n",
      "100%|█████████████████████████████████████████████████████████████████████████████████| 365/365 [00:54<00:00,  6.74it/s]\n",
      "100%|███████████████████████████████████████████████████████████████████████████████| 3241/3241 [03:18<00:00, 16.36it/s]\n",
      "100%|█████████████████████████████████████████████████████████████████████████████████| 122/122 [00:18<00:00,  6.59it/s]\n",
      "100%|███████████████████████████████████████████████████████████████████████████████| 3241/3241 [03:18<00:00, 16.32it/s]\n",
      "100%|█████████████████████████████████████████████████████████████████████████████████| 122/122 [00:18<00:00,  6.43it/s]\n",
      "100%|███████████████████████████████████████████████████████████████████████████████| 3241/3241 [03:17<00:00, 16.38it/s]\n",
      "100%|█████████████████████████████████████████████████████████████████████████████████| 122/122 [00:19<00:00,  6.32it/s]\n",
      "100%|█████████████████████████████████████████████████████████████████████████████████| 365/365 [00:53<00:00,  6.87it/s]\n",
      "100%|███████████████████████████████████████████████████████████████████████████████| 3241/3241 [03:17<00:00, 16.41it/s]\n",
      "100%|█████████████████████████████████████████████████████████████████████████████████| 122/122 [00:18<00:00,  6.72it/s]\n",
      "100%|███████████████████████████████████████████████████████████████████████████████| 3241/3241 [03:19<00:00, 16.22it/s]\n",
      "100%|█████████████████████████████████████████████████████████████████████████████████| 122/122 [00:18<00:00,  6.72it/s]\n",
      "100%|███████████████████████████████████████████████████████████████████████████████| 3241/3241 [03:18<00:00, 16.35it/s]\n",
      "100%|█████████████████████████████████████████████████████████████████████████████████| 122/122 [00:18<00:00,  6.76it/s]\n",
      "100%|█████████████████████████████████████████████████████████████████████████████████| 365/365 [00:54<00:00,  6.74it/s]\n",
      "100%|███████████████████████████████████████████████████████████████████████████████| 3241/3241 [03:19<00:00, 16.25it/s]\n",
      "100%|█████████████████████████████████████████████████████████████████████████████████| 122/122 [00:18<00:00,  6.54it/s]\n",
      "100%|███████████████████████████████████████████████████████████████████████████████| 3241/3241 [03:19<00:00, 16.25it/s]\n",
      "100%|█████████████████████████████████████████████████████████████████████████████████| 122/122 [00:18<00:00,  6.64it/s]\n",
      "100%|███████████████████████████████████████████████████████████████████████████████| 3241/3241 [03:19<00:00, 16.25it/s]\n",
      "100%|█████████████████████████████████████████████████████████████████████████████████| 122/122 [00:18<00:00,  6.61it/s]\n",
      "100%|█████████████████████████████████████████████████████████████████████████████████| 365/365 [00:52<00:00,  6.89it/s]\n",
      "100%|███████████████████████████████████████████████████████████████████████████████| 3241/3241 [03:18<00:00, 16.35it/s]\n",
      "100%|█████████████████████████████████████████████████████████████████████████████████| 122/122 [00:18<00:00,  6.48it/s]\n",
      "100%|███████████████████████████████████████████████████████████████████████████████| 3241/3241 [03:17<00:00, 16.40it/s]\n",
      "100%|█████████████████████████████████████████████████████████████████████████████████| 122/122 [00:18<00:00,  6.63it/s]\n",
      "100%|███████████████████████████████████████████████████████████████████████████████| 3241/3241 [03:19<00:00, 16.27it/s]\n",
      "100%|█████████████████████████████████████████████████████████████████████████████████| 122/122 [00:18<00:00,  6.56it/s]\n",
      "100%|█████████████████████████████████████████████████████████████████████████████████| 365/365 [00:52<00:00,  6.94it/s]\n",
      "  4%|██▊                                                                             | 114/3241 [00:07<03:30, 14.84it/s]\n"
     ]
    },
    {
     "ename": "KeyboardInterrupt",
     "evalue": "",
     "output_type": "error",
     "traceback": [
      "\u001b[0;31m---------------------------------------------------------------------------\u001b[0m",
      "\u001b[0;31mKeyboardInterrupt\u001b[0m                         Traceback (most recent call last)",
      "Cell \u001b[0;32mIn[22], line 1\u001b[0m\n\u001b[0;32m----> 1\u001b[0m \u001b[43mltr\u001b[49m\u001b[38;5;241;43m.\u001b[39;49m\u001b[43mtrain\u001b[49m\u001b[43m(\u001b[49m\u001b[38;5;124;43m'\u001b[39;49m\u001b[38;5;124;43msad_dogo\u001b[39;49m\u001b[38;5;124;43m'\u001b[39;49m\u001b[43m)\u001b[49m\n",
      "File \u001b[0;32m~/dmdiploma/diploma_code/trainer.py:231\u001b[0m, in \u001b[0;36mLTRTrainer.train\u001b[0;34m(self, run_name)\u001b[0m\n\u001b[1;32m    227\u001b[0m result_loss \u001b[38;5;241m=\u001b[39m criterion_processor(loss, gt_text\u001b[38;5;241m.\u001b[39msize(\u001b[38;5;241m0\u001b[39m), \u001b[38;5;28mself\u001b[39m\u001b[38;5;241m.\u001b[39mstep)\n\u001b[1;32m    229\u001b[0m \u001b[38;5;28mself\u001b[39m\u001b[38;5;241m.\u001b[39mvalidate_inf_or_nan_loss(result_loss, batch, log_probs, inp_len)\n\u001b[0;32m--> 231\u001b[0m \u001b[43mresult_loss\u001b[49m\u001b[38;5;241;43m.\u001b[39;49m\u001b[43mbackward\u001b[49m\u001b[43m(\u001b[49m\u001b[43m)\u001b[49m\n\u001b[1;32m    233\u001b[0m grads \u001b[38;5;241m=\u001b[39m [\n\u001b[1;32m    234\u001b[0m     param\u001b[38;5;241m.\u001b[39mgrad\u001b[38;5;241m.\u001b[39mdetach()\u001b[38;5;241m.\u001b[39mflatten()\n\u001b[1;32m    235\u001b[0m     \u001b[38;5;28;01mfor\u001b[39;00m param \u001b[38;5;129;01min\u001b[39;00m \u001b[38;5;28mself\u001b[39m\u001b[38;5;241m.\u001b[39mmodel\u001b[38;5;241m.\u001b[39mparameters()\n\u001b[1;32m    236\u001b[0m     \u001b[38;5;28;01mif\u001b[39;00m param\u001b[38;5;241m.\u001b[39mgrad \u001b[38;5;129;01mis\u001b[39;00m \u001b[38;5;129;01mnot\u001b[39;00m \u001b[38;5;28;01mNone\u001b[39;00m\n\u001b[1;32m    237\u001b[0m ]\n\u001b[1;32m    238\u001b[0m \u001b[38;5;28;01mif\u001b[39;00m \u001b[38;5;28mlen\u001b[39m(grads) \u001b[38;5;241m>\u001b[39m \u001b[38;5;241m0\u001b[39m:\n",
      "File \u001b[0;32m~/dmdiploma/miniconda3/lib/python3.10/site-packages/torch/_tensor.py:487\u001b[0m, in \u001b[0;36mTensor.backward\u001b[0;34m(self, gradient, retain_graph, create_graph, inputs)\u001b[0m\n\u001b[1;32m    477\u001b[0m \u001b[38;5;28;01mif\u001b[39;00m has_torch_function_unary(\u001b[38;5;28mself\u001b[39m):\n\u001b[1;32m    478\u001b[0m     \u001b[38;5;28;01mreturn\u001b[39;00m handle_torch_function(\n\u001b[1;32m    479\u001b[0m         Tensor\u001b[38;5;241m.\u001b[39mbackward,\n\u001b[1;32m    480\u001b[0m         (\u001b[38;5;28mself\u001b[39m,),\n\u001b[0;32m   (...)\u001b[0m\n\u001b[1;32m    485\u001b[0m         inputs\u001b[38;5;241m=\u001b[39minputs,\n\u001b[1;32m    486\u001b[0m     )\n\u001b[0;32m--> 487\u001b[0m \u001b[43mtorch\u001b[49m\u001b[38;5;241;43m.\u001b[39;49m\u001b[43mautograd\u001b[49m\u001b[38;5;241;43m.\u001b[39;49m\u001b[43mbackward\u001b[49m\u001b[43m(\u001b[49m\n\u001b[1;32m    488\u001b[0m \u001b[43m    \u001b[49m\u001b[38;5;28;43mself\u001b[39;49m\u001b[43m,\u001b[49m\u001b[43m \u001b[49m\u001b[43mgradient\u001b[49m\u001b[43m,\u001b[49m\u001b[43m \u001b[49m\u001b[43mretain_graph\u001b[49m\u001b[43m,\u001b[49m\u001b[43m \u001b[49m\u001b[43mcreate_graph\u001b[49m\u001b[43m,\u001b[49m\u001b[43m \u001b[49m\u001b[43minputs\u001b[49m\u001b[38;5;241;43m=\u001b[39;49m\u001b[43minputs\u001b[49m\n\u001b[1;32m    489\u001b[0m \u001b[43m\u001b[49m\u001b[43m)\u001b[49m\n",
      "File \u001b[0;32m~/dmdiploma/miniconda3/lib/python3.10/site-packages/torch/autograd/__init__.py:200\u001b[0m, in \u001b[0;36mbackward\u001b[0;34m(tensors, grad_tensors, retain_graph, create_graph, grad_variables, inputs)\u001b[0m\n\u001b[1;32m    195\u001b[0m     retain_graph \u001b[38;5;241m=\u001b[39m create_graph\n\u001b[1;32m    197\u001b[0m \u001b[38;5;66;03m# The reason we repeat same the comment below is that\u001b[39;00m\n\u001b[1;32m    198\u001b[0m \u001b[38;5;66;03m# some Python versions print out the first line of a multi-line function\u001b[39;00m\n\u001b[1;32m    199\u001b[0m \u001b[38;5;66;03m# calls in the traceback and some print out the last line\u001b[39;00m\n\u001b[0;32m--> 200\u001b[0m \u001b[43mVariable\u001b[49m\u001b[38;5;241;43m.\u001b[39;49m\u001b[43m_execution_engine\u001b[49m\u001b[38;5;241;43m.\u001b[39;49m\u001b[43mrun_backward\u001b[49m\u001b[43m(\u001b[49m\u001b[43m  \u001b[49m\u001b[38;5;66;43;03m# Calls into the C++ engine to run the backward pass\u001b[39;49;00m\n\u001b[1;32m    201\u001b[0m \u001b[43m    \u001b[49m\u001b[43mtensors\u001b[49m\u001b[43m,\u001b[49m\u001b[43m \u001b[49m\u001b[43mgrad_tensors_\u001b[49m\u001b[43m,\u001b[49m\u001b[43m \u001b[49m\u001b[43mretain_graph\u001b[49m\u001b[43m,\u001b[49m\u001b[43m \u001b[49m\u001b[43mcreate_graph\u001b[49m\u001b[43m,\u001b[49m\u001b[43m \u001b[49m\u001b[43minputs\u001b[49m\u001b[43m,\u001b[49m\n\u001b[1;32m    202\u001b[0m \u001b[43m    \u001b[49m\u001b[43mallow_unreachable\u001b[49m\u001b[38;5;241;43m=\u001b[39;49m\u001b[38;5;28;43;01mTrue\u001b[39;49;00m\u001b[43m,\u001b[49m\u001b[43m \u001b[49m\u001b[43maccumulate_grad\u001b[49m\u001b[38;5;241;43m=\u001b[39;49m\u001b[38;5;28;43;01mTrue\u001b[39;49;00m\u001b[43m)\u001b[49m\n",
      "\u001b[0;31mKeyboardInterrupt\u001b[0m: "
     ]
    }
   ],
   "source": [
    "ltr.train('sad_dogo')"
   ]
  },
  {
   "cell_type": "code",
   "execution_count": 246,
   "id": "c53435b8",
   "metadata": {},
   "outputs": [
    {
     "name": "stdout",
     "output_type": "stream",
     "text": [
      "data/mjsynth/mnt/ramdisk/max/90kDICT32px/1696/4/211_Queened_61779.jpg has premature end of jpeg file\n",
      "Checked 100000 images in 18.951529502868652 seconds, found 1 corrupted\n",
      "data/mjsynth/mnt/ramdisk/max/90kDICT32px/2540/4/246_SQUAMOUS_73902.jpg has premature end of jpeg file\n",
      "Checked 200000 images in 37.68372654914856 seconds, found 2 corrupted\n",
      "Checked 300000 images in 56.298471212387085 seconds, found 2 corrupted\n",
      "Checked 400000 images in 75.03809976577759 seconds, found 2 corrupted\n",
      "Checked 500000 images in 93.85237288475037 seconds, found 2 corrupted\n",
      "data/mjsynth/mnt/ramdisk/max/90kDICT32px/2489/4/221_snored_72290.jpg has premature end of jpeg file\n",
      "Checked 600000 images in 112.51990985870361 seconds, found 3 corrupted\n",
      "Checked 700000 images in 131.21052145957947 seconds, found 3 corrupted\n",
      "Checked 800000 images in 150.05990934371948 seconds, found 3 corrupted\n",
      "Checked 900000 images in 168.71192383766174 seconds, found 3 corrupted\n",
      "Checked 1000000 images in 187.46954560279846 seconds, found 3 corrupted\n",
      "Checked 1100000 images in 206.4558708667755 seconds, found 3 corrupted\n",
      "Checked 1200000 images in 225.24797892570496 seconds, found 3 corrupted\n",
      "Checked 1300000 images in 244.03781819343567 seconds, found 3 corrupted\n",
      "failed to process file data/mjsynth/mnt/ramdisk/max/90kDICT32px/2911/6/77_heretical_35885.jpg, error: [Errno 22] Invalid argument\n",
      "Checked 1400000 images in 263.0574812889099 seconds, found 4 corrupted\n",
      "data/mjsynth/mnt/ramdisk/max/90kDICT32px/495/6/81_MIDYEAR_48332.jpg has premature end of jpeg file\n",
      "Checked 1500000 images in 282.23429775238037 seconds, found 5 corrupted\n",
      "Checked 1600000 images in 301.77506279945374 seconds, found 5 corrupted\n",
      "Checked 1700000 images in 321.3719696998596 seconds, found 5 corrupted\n",
      "Checked 1800000 images in 340.912540435791 seconds, found 5 corrupted\n",
      "Checked 1900000 images in 360.401948928833 seconds, found 5 corrupted\n",
      "data/mjsynth/mnt/ramdisk/max/90kDICT32px/264/2/362_FORETASTE_30276.jpg has premature end of jpeg file\n",
      "failed to process file data/mjsynth/mnt/ramdisk/max/90kDICT32px/2852/6/60_TOILSOME_79481.jpg, error: [Errno 22] Invalid argument\n",
      "data/mjsynth/mnt/ramdisk/max/90kDICT32px/1730/2/361_HEREON_35880.jpg has premature end of jpeg file\n",
      "Checked 2000000 images in 379.8093194961548 seconds, found 8 corrupted\n",
      "Checked 2100000 images in 399.1607177257538 seconds, found 8 corrupted\n",
      "Checked 2200000 images in 418.5676634311676 seconds, found 8 corrupted\n",
      "Checked 2300000 images in 438.09797835350037 seconds, found 8 corrupted\n",
      "Checked 2400000 images in 457.4621205329895 seconds, found 8 corrupted\n",
      "data/mjsynth/mnt/ramdisk/max/90kDICT32px/554/2/366_Teleconferences_77948.jpg has premature end of jpeg file\n",
      "Checked 2500000 images in 476.85496854782104 seconds, found 9 corrupted\n",
      "Checked 2600000 images in 496.25917887687683 seconds, found 9 corrupted\n",
      "Checked 2700000 images in 515.9029455184937 seconds, found 9 corrupted\n",
      "Checked 2800000 images in 535.1907196044922 seconds, found 9 corrupted\n",
      "Checked 2900000 images in 554.5571353435516 seconds, found 9 corrupted\n",
      "Checked 3000000 images in 573.9729766845703 seconds, found 9 corrupted\n",
      "Checked 3100000 images in 593.3871314525604 seconds, found 9 corrupted\n",
      "Checked 3200000 images in 612.675607919693 seconds, found 9 corrupted\n",
      "Checked 3300000 images in 632.0768239498138 seconds, found 9 corrupted\n",
      "data/mjsynth/mnt/ramdisk/max/90kDICT32px/1332/4/224_TETHERED_78397.jpg has premature end of jpeg file\n",
      "data/mjsynth/mnt/ramdisk/max/90kDICT32px/627/6/83_PATRIARCHATE_55931.jpg has premature end of jpeg file\n",
      "Checked 3400000 images in 651.5288732051849 seconds, found 11 corrupted\n",
      "Checked 3500000 images in 670.931713104248 seconds, found 11 corrupted\n",
      "Checked 3600000 images in 690.5575475692749 seconds, found 11 corrupted\n",
      "Checked 3700000 images in 710.1907341480255 seconds, found 11 corrupted\n",
      "data/mjsynth/mnt/ramdisk/max/90kDICT32px/275/6/96_hackle_34465.jpg has premature end of jpeg file\n",
      "Checked 3800000 images in 729.52659034729 seconds, found 12 corrupted\n",
      "Checked 3900000 images in 748.8728542327881 seconds, found 12 corrupted\n",
      "failed to process file data/mjsynth/mnt/ramdisk/max/90kDICT32px/2069/4/192_whittier_86389.jpg, error: [Errno 22] Invalid argument\n",
      "Checked 4000000 images in 768.2088203430176 seconds, found 13 corrupted\n",
      "data/mjsynth/mnt/ramdisk/max/90kDICT32px/1881/4/225_Marbling_46673.jpg has premature end of jpeg file\n",
      "data/mjsynth/mnt/ramdisk/max/90kDICT32px/936/2/375_LOCALITIES_44992.jpg has premature end of jpeg file\n",
      "Checked 4100000 images in 787.7751998901367 seconds, found 15 corrupted\n",
      "Checked 4200000 images in 807.0151362419128 seconds, found 15 corrupted\n",
      "Checked 4300000 images in 826.3629400730133 seconds, found 15 corrupted\n",
      "data/mjsynth/mnt/ramdisk/max/90kDICT32px/2749/6/101_Chided_13155.jpg has premature end of jpeg file\n",
      "Checked 4400000 images in 845.7661924362183 seconds, found 16 corrupted\n",
      "data/mjsynth/mnt/ramdisk/max/90kDICT32px/429/4/208_Mainmasts_46140.jpg has premature end of jpeg file\n",
      "Checked 4500000 images in 865.1481721401215 seconds, found 17 corrupted\n",
      "data/mjsynth/mnt/ramdisk/max/90kDICT32px/869/4/234_TRIASSIC_80582.jpg has premature end of jpeg file\n",
      "Checked 4600000 images in 884.3753561973572 seconds, found 18 corrupted\n",
      "Checked 4700000 images in 903.6393489837646 seconds, found 18 corrupted\n",
      "Checked 4800000 images in 923.1511425971985 seconds, found 18 corrupted\n",
      "Checked 4900000 images in 942.6447267532349 seconds, found 18 corrupted\n",
      "Checked 5000000 images in 961.8419733047485 seconds, found 18 corrupted\n",
      "Checked 5100000 images in 981.1611807346344 seconds, found 18 corrupted\n",
      "Checked 5200000 images in 1000.552271604538 seconds, found 18 corrupted\n",
      "Checked 5300000 images in 1019.9057981967926 seconds, found 18 corrupted\n",
      "data/mjsynth/mnt/ramdisk/max/90kDICT32px/2557/2/351_DOWN_23492.jpg has premature end of jpeg file\n",
      "Checked 5400000 images in 1039.1831986904144 seconds, found 19 corrupted\n",
      "Checked 5500000 images in 1058.5144839286804 seconds, found 19 corrupted\n",
      "Checked 5600000 images in 1077.7919263839722 seconds, found 19 corrupted\n",
      "Checked 5700000 images in 1097.1177341938019 seconds, found 19 corrupted\n",
      "Checked 5800000 images in 1116.4663891792297 seconds, found 19 corrupted\n",
      "data/mjsynth/mnt/ramdisk/max/90kDICT32px/2128/2/369_REDACTED_63458.jpg has premature end of jpeg file\n",
      "Checked 5900000 images in 1135.9374918937683 seconds, found 20 corrupted\n",
      "failed to process file data/mjsynth/mnt/ramdisk/max/90kDICT32px/173/2/358_BURROWING_10395.jpg, error: [Errno 22] Invalid argument\n",
      "Checked 6000000 images in 1155.5433979034424 seconds, found 21 corrupted\n",
      "Checked 6100000 images in 1175.2199811935425 seconds, found 21 corrupted\n",
      "Checked 6200000 images in 1194.8283450603485 seconds, found 21 corrupted\n",
      "failed to process file data/mjsynth/mnt/ramdisk/max/90kDICT32px/368/4/232_friar_30876.jpg, error: [Errno 22] Invalid argument\n",
      "Checked 6300000 images in 1214.5452663898468 seconds, found 22 corrupted\n",
      "Checked 6400000 images in 1234.187614440918 seconds, found 22 corrupted\n",
      "Checked 6500000 images in 1253.5740842819214 seconds, found 22 corrupted\n",
      "Checked 6600000 images in 1272.8712656497955 seconds, found 22 corrupted\n",
      "Checked 6700000 images in 1292.0920703411102 seconds, found 22 corrupted\n",
      "Checked 6800000 images in 1311.4273085594177 seconds, found 22 corrupted\n",
      "Checked 6900000 images in 1330.7157838344574 seconds, found 22 corrupted\n",
      "Checked 7000000 images in 1350.047779083252 seconds, found 22 corrupted\n",
      "data/mjsynth/mnt/ramdisk/max/90kDICT32px/596/2/372_Ump_81662.jpg has premature end of jpeg file\n",
      "data/mjsynth/mnt/ramdisk/max/90kDICT32px/1863/4/223_Diligently_21672.jpg has premature end of jpeg file\n",
      "data/mjsynth/mnt/ramdisk/max/90kDICT32px/2194/2/334_EFFLORESCENT_24742.jpg has premature end of jpeg file\n",
      "Checked 7100000 images in 1369.3294756412506 seconds, found 25 corrupted\n",
      "Checked 7200000 images in 1388.5914645195007 seconds, found 25 corrupted\n",
      "failed to process file data/mjsynth/mnt/ramdisk/max/90kDICT32px/2025/2/364_SNORTERS_72304.jpg, error: [Errno 22] Invalid argument\n",
      "data/mjsynth/mnt/ramdisk/max/90kDICT32px/1650/2/355_stony_74902.jpg has premature end of jpeg file\n",
      "Checked 7300000 images in 1407.951684474945 seconds, found 27 corrupted\n",
      "Checked 7400000 images in 1427.4152908325195 seconds, found 27 corrupted\n"
     ]
    },
    {
     "name": "stdout",
     "output_type": "stream",
     "text": [
      "Checked 7500000 images in 1446.9203684329987 seconds, found 27 corrupted\n",
      "failed to process file data/mjsynth/mnt/ramdisk/max/90kDICT32px/913/4/231_randoms_62372.jpg, error: [Errno 22] Invalid argument\n",
      "Checked 7600000 images in 1466.345933675766 seconds, found 28 corrupted\n",
      "Checked 7700000 images in 1485.691297531128 seconds, found 28 corrupted\n",
      "Checked 7800000 images in 1504.955777645111 seconds, found 28 corrupted\n",
      "Checked 7900000 images in 1524.2437522411346 seconds, found 28 corrupted\n",
      "data/mjsynth/mnt/ramdisk/max/90kDICT32px/384/4/220_bolts_8596.jpg has premature end of jpeg file\n",
      "failed to process file data/mjsynth/mnt/ramdisk/max/90kDICT32px/1817/2/363_actuating_904.jpg, error: [Errno 22] Invalid argument\n",
      "Checked 8000000 images in 1543.4584033489227 seconds, found 30 corrupted\n",
      "Checked 8100000 images in 1562.727600812912 seconds, found 30 corrupted\n",
      "data/mjsynth/mnt/ramdisk/max/90kDICT32px/905/4/234_Postscripts_59142.jpg has premature end of jpeg file\n",
      "Checked 8200000 images in 1582.0282554626465 seconds, found 31 corrupted\n",
      "Checked 8300000 images in 1601.2372965812683 seconds, found 31 corrupted\n",
      "Checked 8400000 images in 1620.612556695938 seconds, found 31 corrupted\n",
      "Checked 8500000 images in 1639.9000358581543 seconds, found 31 corrupted\n",
      "Checked 8600000 images in 1659.2211124897003 seconds, found 31 corrupted\n",
      "data/mjsynth/mnt/ramdisk/max/90kDICT32px/2013/2/370_refract_63890.jpg has premature end of jpeg file\n",
      "Checked 8700000 images in 1678.6087620258331 seconds, found 32 corrupted\n",
      "Checked 8800000 images in 1697.6653468608856 seconds, found 32 corrupted\n",
      "Checked 8900000 images in 1716.8307662010193 seconds, found 32 corrupted\n"
     ]
    }
   ],
   "source": [
    "path = \"data/mjsynth/mnt/ramdisk/max/90kDICT32px\"\n",
    "\n",
    "bad_files = []\n",
    "\n",
    "import time\n",
    "\n",
    "count = 0\n",
    "begin = time.time()\n",
    "\n",
    "for dirpath, dirnames, filenames in os.walk(path):\n",
    "    for filename in filenames:\n",
    "        if filename.split('.')[-1] == 'jpg':\n",
    "            full_path = os.path.join(dirpath, filename)\n",
    "            with open(full_path, 'rb') as im:\n",
    "                try:\n",
    "                    im.seek(-2,2)\n",
    "                except OSError as e:\n",
    "                    print(f'failed to process file {full_path}, error: {e}')\n",
    "                    bad_files.append(full_path)\n",
    "                    continue\n",
    "                if im.read() != b'\\xff\\xd9':\n",
    "                    print(f'{full_path} has premature end of jpeg file')\n",
    "                    bad_files.append(full_path)\n",
    "                    continue\n",
    "            val = cv2.imread(full_path, cv2.IMREAD_GRAYSCALE)\n",
    "            if val is None:\n",
    "                print(f'{full_path} has a corrupted image')\n",
    "                bad_files.append(full_path)\n",
    "            count += 1\n",
    "            if count % 100000 == 0:\n",
    "                print(f'Checked {count} images in {time.time() - begin} seconds, found {len(bad_files)} corrupted')\n",
    "    "
   ]
  },
  {
   "cell_type": "code",
   "execution_count": null,
   "id": "88514f8e",
   "metadata": {},
   "outputs": [],
   "source": []
  }
 ],
 "metadata": {
  "kernelspec": {
   "display_name": "Python 3 (ipykernel)",
   "language": "python",
   "name": "python3"
  },
  "language_info": {
   "codemirror_mode": {
    "name": "ipython",
    "version": 3
   },
   "file_extension": ".py",
   "mimetype": "text/x-python",
   "name": "python",
   "nbconvert_exporter": "python",
   "pygments_lexer": "ipython3",
   "version": "3.10.9"
  }
 },
 "nbformat": 4,
 "nbformat_minor": 5
}
