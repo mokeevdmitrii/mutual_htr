{
 "cells": [
  {
   "cell_type": "code",
   "execution_count": 24,
   "id": "516d58ad",
   "metadata": {},
   "outputs": [],
   "source": [
    "ROOT = \"../../../diploma/data\"\n",
    "SPLIT = \"IAM-D\""
   ]
  },
  {
   "cell_type": "code",
   "execution_count": 47,
   "id": "71920605",
   "metadata": {},
   "outputs": [
    {
     "name": "stdout",
     "output_type": "stream",
     "text": [
      "\u001b[34mIAM-B\u001b[m\u001b[m         \u001b[34marchive\u001b[m\u001b[m       \u001b[31mforms.txt\u001b[m\u001b[m     \u001b[31mlines.txt\u001b[m\u001b[m     \u001b[34msplits\u001b[m\u001b[m\r\n",
      "\u001b[34mIAM-D\u001b[m\u001b[m         \u001b[34mforms\u001b[m\u001b[m         \u001b[34mlines\u001b[m\u001b[m         \u001b[31msentences.txt\u001b[m\u001b[m \u001b[31mwords.txt\u001b[m\u001b[m\r\n"
     ]
    }
   ],
   "source": [
    "# we are interested in lines and IAM-D folder only\n",
    "\n",
    "# see https://github.com/shonenkov/IAM-Splitting for IAM-D split\n",
    "# see https://fki.tic.heia-fr.ch/databases/iam-handwriting-database for IAM data (not available in Russia)\n",
    "!ls \"{ROOT}/\""
   ]
  },
  {
   "cell_type": "code",
   "execution_count": 48,
   "id": "c43675eb",
   "metadata": {},
   "outputs": [
    {
     "name": "stdout",
     "output_type": "stream",
     "text": [
      "test.txt  train.txt valid.txt\r\n"
     ]
    }
   ],
   "source": [
    "!ls \"{ROOT}/IAM-D\""
   ]
  },
  {
   "cell_type": "code",
   "execution_count": 45,
   "id": "71820014",
   "metadata": {},
   "outputs": [],
   "source": [
    "import re\n",
    "import os"
   ]
  },
  {
   "cell_type": "code",
   "execution_count": 34,
   "id": "e72461a6",
   "metadata": {},
   "outputs": [],
   "source": [
    "# see \"https://github.com/shonenkov/IAM-Splitting\"\n",
    "train_ids = [line.strip() for line in open(f'{ROOT}/{SPLIT}/train.txt').readlines()]\n",
    "valid_ids = [line.strip() for line in open(f'{ROOT}/{SPLIT}/valid.txt').readlines()]\n",
    "test_ids = [line.strip() for line in open(f'{ROOT}/{SPLIT}/test.txt').readlines()]\n",
    "\n",
    "unique_train_ids = set(train_ids)\n",
    "unique_valid_ids = set(valid_ids)\n",
    "unique_test_ids = set(test_ids)\n",
    "\n",
    "for x, y in zip([train_ids, valid_ids, test_ids], [unique_train_ids, unique_valid_ids, unique_test_ids]):\n",
    "    assert len(x) == len(y)\n",
    "\n",
    "\n",
    "def make_stage(img_id):\n",
    "    if img_id in unique_train_ids:\n",
    "        return 'train'\n",
    "    if img_id in unique_valid_ids:\n",
    "        return 'valid'\n",
    "    if img_id in unique_test_ids:\n",
    "        return 'test'\n",
    "    return 'unknown'"
   ]
  },
  {
   "cell_type": "code",
   "execution_count": 35,
   "id": "205330b1",
   "metadata": {},
   "outputs": [
    {
     "name": "stdout",
     "output_type": "stream",
     "text": [
      "[9652, 1840, 1861]\n"
     ]
    }
   ],
   "source": [
    "print([len(x) for x in (train_ids, valid_ids, test_ids)])"
   ]
  },
  {
   "cell_type": "code",
   "execution_count": 37,
   "id": "5c91c24e",
   "metadata": {},
   "outputs": [],
   "source": [
    "dataset = []\n",
    "\n",
    "for line in open(f'{ROOT}/lines.txt').readlines():\n",
    "    line = line.strip()\n",
    "    if line.startswith('#'):\n",
    "        continue\n",
    "        \n",
    "    sample_id, text = re.findall(\n",
    "        r'([\\S]+)\\s\\w+\\s\\d+\\s\\d+\\s\\d+\\s\\d+\\s\\d+\\s\\d+\\s([\\w\\W]+)',\n",
    "        line\n",
    "    )[0]\n",
    "    folder, subfolder, _ = sample_id.split('-')\n",
    "    subfolder = f'{folder}-{subfolder}'\n",
    "    \n",
    "    dataset.append({\n",
    "        'sample_id': sample_id,\n",
    "        'text': text.replace('|', ' ').strip(),\n",
    "        'path': f'iam/images/{folder}/{subfolder}/{sample_id}.png',\n",
    "        'stage': make_stage(sample_id),\n",
    "    })"
   ]
  },
  {
   "cell_type": "code",
   "execution_count": 40,
   "id": "b09da0a5",
   "metadata": {},
   "outputs": [],
   "source": [
    "import pandas as pd"
   ]
  },
  {
   "cell_type": "code",
   "execution_count": 42,
   "id": "c0a5b240",
   "metadata": {},
   "outputs": [
    {
     "data": {
      "text/html": [
       "<div>\n",
       "<style scoped>\n",
       "    .dataframe tbody tr th:only-of-type {\n",
       "        vertical-align: middle;\n",
       "    }\n",
       "\n",
       "    .dataframe tbody tr th {\n",
       "        vertical-align: top;\n",
       "    }\n",
       "\n",
       "    .dataframe thead th {\n",
       "        text-align: right;\n",
       "    }\n",
       "</style>\n",
       "<table border=\"1\" class=\"dataframe\">\n",
       "  <thead>\n",
       "    <tr style=\"text-align: right;\">\n",
       "      <th></th>\n",
       "      <th>text</th>\n",
       "      <th>path</th>\n",
       "      <th>stage</th>\n",
       "    </tr>\n",
       "    <tr>\n",
       "      <th>sample_id</th>\n",
       "      <th></th>\n",
       "      <th></th>\n",
       "      <th></th>\n",
       "    </tr>\n",
       "  </thead>\n",
       "  <tbody>\n",
       "    <tr>\n",
       "      <th>a01-000u-00</th>\n",
       "      <td>A MOVE to stop Mr. Gaitskell from</td>\n",
       "      <td>iam/images/a01/a01-000u/a01-000u-00.png</td>\n",
       "      <td>train</td>\n",
       "    </tr>\n",
       "    <tr>\n",
       "      <th>a01-000u-01</th>\n",
       "      <td>nominating any more Labour life Peers</td>\n",
       "      <td>iam/images/a01/a01-000u/a01-000u-01.png</td>\n",
       "      <td>train</td>\n",
       "    </tr>\n",
       "    <tr>\n",
       "      <th>a01-000u-02</th>\n",
       "      <td>is to be made at a meeting of Labour</td>\n",
       "      <td>iam/images/a01/a01-000u/a01-000u-02.png</td>\n",
       "      <td>train</td>\n",
       "    </tr>\n",
       "  </tbody>\n",
       "</table>\n",
       "</div>"
      ],
      "text/plain": [
       "                                              text  \\\n",
       "sample_id                                            \n",
       "a01-000u-00      A MOVE to stop Mr. Gaitskell from   \n",
       "a01-000u-01  nominating any more Labour life Peers   \n",
       "a01-000u-02   is to be made at a meeting of Labour   \n",
       "\n",
       "                                                path  stage  \n",
       "sample_id                                                    \n",
       "a01-000u-00  iam/images/a01/a01-000u/a01-000u-00.png  train  \n",
       "a01-000u-01  iam/images/a01/a01-000u/a01-000u-01.png  train  \n",
       "a01-000u-02  iam/images/a01/a01-000u/a01-000u-02.png  train  "
      ]
     },
     "execution_count": 42,
     "metadata": {},
     "output_type": "execute_result"
    }
   ],
   "source": [
    "marking = pd.DataFrame(dataset).set_index('sample_id')\n",
    "marking.head(3)"
   ]
  },
  {
   "cell_type": "code",
   "execution_count": 43,
   "id": "0630e727",
   "metadata": {},
   "outputs": [
    {
     "data": {
      "text/plain": [
       "train    9652\n",
       "test     1861\n",
       "valid    1840\n",
       "Name: stage, dtype: int64"
      ]
     },
     "execution_count": 43,
     "metadata": {},
     "output_type": "execute_result"
    }
   ],
   "source": [
    "marking['stage'].value_counts()"
   ]
  },
  {
   "cell_type": "code",
   "execution_count": 46,
   "id": "90282748",
   "metadata": {},
   "outputs": [],
   "source": [
    "os.makedirs('./prepared_datasets/iam', exist_ok=True)\n",
    "os.makedirs('./prepared_datasets/iam/images', exist_ok=True)"
   ]
  },
  {
   "cell_type": "code",
   "execution_count": 50,
   "id": "e86ede5c",
   "metadata": {},
   "outputs": [
    {
     "name": "stdout",
     "output_type": "stream",
     "text": [
      "CPU times: user 45.9 ms, sys: 29.4 ms, total: 75.3 ms\n",
      "Wall time: 9.98 s\n"
     ]
    }
   ],
   "source": [
    "%%time\n",
    "\n",
    "!cp -r \"{ROOT}/lines/\" ./prepared_datasets/iam/images/"
   ]
  },
  {
   "cell_type": "code",
   "execution_count": 52,
   "id": "57d2b113",
   "metadata": {},
   "outputs": [],
   "source": [
    "marking.to_csv('./prepared_datasets/iam/marking.csv')"
   ]
  },
  {
   "cell_type": "code",
   "execution_count": 55,
   "id": "2fb93f6e",
   "metadata": {},
   "outputs": [
    {
     "name": "stdout",
     "output_type": "stream",
     "text": [
      "\u001b[34mimages\u001b[m\u001b[m      marking.csv\r\n"
     ]
    }
   ],
   "source": [
    "!cd ./prepared_datasets/iam && ls"
   ]
  },
  {
   "cell_type": "code",
   "execution_count": null,
   "id": "a972d7b9",
   "metadata": {},
   "outputs": [],
   "source": [
    "!cd ./prepared_datasets && tar -czvf iam.tar.gz iam > /dev/null"
   ]
  },
  {
   "cell_type": "code",
   "execution_count": 67,
   "id": "88d39657",
   "metadata": {},
   "outputs": [
    {
     "name": "stdout",
     "output_type": "stream",
     "text": [
      "657M\t./prepared_datasets/iam.tar.gz\r\n"
     ]
    }
   ],
   "source": [
    "!du -h ./prepared_datasets/iam.tar.gz"
   ]
  }
 ],
 "metadata": {
  "kernelspec": {
   "display_name": "Python 3 (ipykernel)",
   "language": "python",
   "name": "python3"
  },
  "language_info": {
   "codemirror_mode": {
    "name": "ipython",
    "version": 3
   },
   "file_extension": ".py",
   "mimetype": "text/x-python",
   "name": "python",
   "nbconvert_exporter": "python",
   "pygments_lexer": "ipython3",
   "version": "3.11.3"
  }
 },
 "nbformat": 4,
 "nbformat_minor": 5
}
